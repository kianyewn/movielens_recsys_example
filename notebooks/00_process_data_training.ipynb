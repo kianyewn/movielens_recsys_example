{
 "cells": [
  {
   "cell_type": "markdown",
   "metadata": {},
   "source": [
    "# Best practice: Set root directory to the root of the project\n"
   ]
  },
  {
   "cell_type": "code",
   "execution_count": 4,
   "metadata": {},
   "outputs": [
    {
     "name": "stdout",
     "output_type": "stream",
     "text": [
      "The autoreload extension is already loaded. To reload it, use:\n",
      "  %reload_ext autoreload\n"
     ]
    }
   ],
   "source": [
    "%load_ext autoreload\n",
    "%autoreload 2\n",
    "from constants import ROOT_DIR\n",
    "import os\n",
    "import sys\n",
    "if ROOT_DIR not in sys.path:\n",
    "    sys.path.append(ROOT_DIR)\n",
    "os.chdir(ROOT_DIR)"
   ]
  },
  {
   "cell_type": "code",
   "execution_count": 5,
   "metadata": {},
   "outputs": [],
   "source": [
    "import pandas as pd\n",
    "from configs.data_config import DataConfig\n",
    "from configs.model_config import ModelConfig\n",
    "from src.data_processing.movies import ProcessMovies\n",
    "from src.data_processing.users import ProcessUsers\n",
    "from src.data_processing.ratings import ProcessRatings\n",
    "\n",
    "data_config = DataConfig()\n",
    "model_config = ModelConfig()"
   ]
  },
  {
   "cell_type": "markdown",
   "metadata": {},
   "source": [
    "# Read Raw Data"
   ]
  },
  {
   "cell_type": "code",
   "execution_count": 6,
   "metadata": {},
   "outputs": [],
   "source": [
    "users = pd.read_csv(data_config.raw_users.file_path, **data_config.raw_users.read_args)\n",
    "movies = pd.read_csv(data_config.raw_movies.file_path, **data_config.raw_movies.read_args)\n",
    "ratings = pd.read_csv(data_config.raw_ratings.file_path, **data_config.raw_ratings.read_args)\n"
   ]
  },
  {
   "cell_type": "markdown",
   "metadata": {},
   "source": [
    "# Data processing for Raw Data"
   ]
  },
  {
   "cell_type": "code",
   "execution_count": 11,
   "metadata": {},
   "outputs": [
    {
     "name": "stderr",
     "output_type": "stream",
     "text": [
      "\u001b[32m2025-05-04 15:28:23.587\u001b[0m | \u001b[1mINFO    \u001b[0m | \u001b[36msrc.data_processing.users\u001b[0m:\u001b[36mprocess_for_training\u001b[0m:\u001b[36m0\u001b[0m - \u001b[1mFunction 'process_for_training' executed in 0.0037 seconds\u001b[0m\n",
      "\u001b[32m2025-05-04 15:28:23.593\u001b[0m | \u001b[1mINFO    \u001b[0m | \u001b[36msrc.data_processing.movies\u001b[0m:\u001b[36mprocess_for_training\u001b[0m:\u001b[36m0\u001b[0m - \u001b[1mFunction 'process_for_training' executed in 0.0055 seconds\u001b[0m\n",
      "\u001b[32m2025-05-04 15:28:23.594\u001b[0m | \u001b[1mINFO    \u001b[0m | \u001b[36msrc.data_processing.ratings\u001b[0m:\u001b[36mprepare_columns_for_ranking\u001b[0m:\u001b[36m20\u001b[0m - \u001b[1mPreparing columns for ranking\u001b[0m\n",
      "\u001b[32m2025-05-04 15:28:23.781\u001b[0m | \u001b[1mINFO    \u001b[0m | \u001b[36msrc.data_processing.ratings\u001b[0m:\u001b[36mprepare_columns_for_ranking\u001b[0m:\u001b[36m27\u001b[0m - \u001b[1mCompleted preparing columns for ranking\u001b[0m\n",
      "\u001b[32m2025-05-04 15:28:23.781\u001b[0m | \u001b[1mINFO    \u001b[0m | \u001b[36msrc.data_processing.ratings\u001b[0m:\u001b[36mnegative_sampling\u001b[0m:\u001b[36m31\u001b[0m - \u001b[1mPreparing Negative Sampling\u001b[0m\n",
      "\u001b[32m2025-05-04 15:31:21.367\u001b[0m | \u001b[1mINFO    \u001b[0m | \u001b[36msrc.data_processing.ratings\u001b[0m:\u001b[36mnegative_sampling\u001b[0m:\u001b[36m55\u001b[0m - \u001b[1mJoining Positive and Negative Samples\u001b[0m\n",
      "\u001b[32m2025-05-04 15:31:21.603\u001b[0m | \u001b[1mINFO    \u001b[0m | \u001b[36msrc.data_processing.ratings\u001b[0m:\u001b[36mnegative_sampling\u001b[0m:\u001b[36m63\u001b[0m - \u001b[1mcompleted.\u001b[0m\n",
      "\u001b[32m2025-05-04 15:31:21.677\u001b[0m | \u001b[1mINFO    \u001b[0m | \u001b[36msrc.data_processing.ratings\u001b[0m:\u001b[36mprocess_for_training\u001b[0m:\u001b[36m0\u001b[0m - \u001b[1mFunction 'process_for_training' executed in 178.0827 seconds\u001b[0m\n"
     ]
    }
   ],
   "source": [
    "process_users = ProcessUsers(users, model_config)\n",
    "process_movies = ProcessMovies(movies, model_config)\n",
    "process_ratings = ProcessRatings(ratings, model_config)\n",
    "\n",
    "process_users.process_for_training()\n",
    "process_movies.process_for_training()\n",
    "process_ratings.process_for_training()\n"
   ]
  },
  {
   "cell_type": "markdown",
   "metadata": {},
   "source": [
    "# Save Processed Data"
   ]
  },
  {
   "cell_type": "code",
   "execution_count": null,
   "metadata": {},
   "outputs": [],
   "source": [
    "process_users.output.to_parquet(data_config.processed_users.file_path)\n",
    "process_movies.output.to_parquet(data_config.processed_movies.file_path)\n",
    "process_ratings.output.to_parquet(data_config.processed_ratings.file_path)"
   ]
  }
 ],
 "metadata": {
  "kernelspec": {
   "display_name": ".venv",
   "language": "python",
   "name": "python3"
  },
  "language_info": {
   "codemirror_mode": {
    "name": "ipython",
    "version": 3
   },
   "file_extension": ".py",
   "mimetype": "text/x-python",
   "name": "python",
   "nbconvert_exporter": "python",
   "pygments_lexer": "ipython3",
   "version": "3.12.6"
  }
 },
 "nbformat": 4,
 "nbformat_minor": 2
}
