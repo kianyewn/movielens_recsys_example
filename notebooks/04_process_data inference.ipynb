{
 "cells": [
  {
   "cell_type": "markdown",
   "metadata": {},
   "source": [
    "# Best practice: Set root directory to the root of the project\n"
   ]
  },
  {
   "cell_type": "code",
   "execution_count": 9,
   "metadata": {},
   "outputs": [
    {
     "name": "stdout",
     "output_type": "stream",
     "text": [
      "The autoreload extension is already loaded. To reload it, use:\n",
      "  %reload_ext autoreload\n"
     ]
    }
   ],
   "source": [
    "%load_ext autoreload\n",
    "%autoreload 2\n",
    "from constants import ROOT_DIR\n",
    "import os\n",
    "import sys\n",
    "if ROOT_DIR not in sys.path:\n",
    "    sys.path.append(ROOT_DIR)\n",
    "os.chdir(ROOT_DIR)"
   ]
  },
  {
   "cell_type": "markdown",
   "metadata": {},
   "source": [
    "# Load Imports and Configs"
   ]
  },
  {
   "cell_type": "code",
   "execution_count": 10,
   "metadata": {},
   "outputs": [],
   "source": [
    "import pandas as pd\n",
    "from configs.data_config import InferenceDataConfig\n",
    "from configs.model_config import ModelConfig\n",
    "from src.data_processing.movies import ProcessMovies\n",
    "from src.data_processing.users import ProcessUsers\n",
    "from src.data_processing.ratings import ProcessRatings\n",
    "\n",
    "data_config = InferenceDataConfig()\n",
    "model_config = ModelConfig()"
   ]
  },
  {
   "cell_type": "markdown",
   "metadata": {},
   "source": [
    "# Read Inference Data\n"
   ]
  },
  {
   "cell_type": "code",
   "execution_count": 11,
   "metadata": {},
   "outputs": [],
   "source": [
    "users = pd.read_csv(data_config.raw_users.file_path, **data_config.raw_users.read_args)\n",
    "movies = pd.read_csv(data_config.raw_movies.file_path, **data_config.raw_movies.read_args)\n",
    "ratings = pd.read_csv(data_config.raw_ratings.file_path, **data_config.raw_ratings.read_args)\n"
   ]
  },
  {
   "cell_type": "markdown",
   "metadata": {},
   "source": [
    "# Data processing for InferenceData\n"
   ]
  },
  {
   "cell_type": "code",
   "execution_count": 7,
   "metadata": {},
   "outputs": [
    {
     "name": "stderr",
     "output_type": "stream",
     "text": [
      "\u001b[32m2025-05-04 20:25:19.502\u001b[0m | \u001b[1mINFO    \u001b[0m | \u001b[36msrc.data_processing.users\u001b[0m:\u001b[36mprocess_for_inference\u001b[0m:\u001b[36m18\u001b[0m - \u001b[1mFunction 'process_for_inference' executed in 0.0015 seconds\u001b[0m\n",
      "\u001b[32m2025-05-04 20:25:19.506\u001b[0m | \u001b[1mINFO    \u001b[0m | \u001b[36msrc.data_processing.movies\u001b[0m:\u001b[36mprocess_for_inference\u001b[0m:\u001b[36m19\u001b[0m - \u001b[1mFunction 'process_for_inference' executed in 0.0040 seconds\u001b[0m\n",
      "\u001b[32m2025-05-04 20:25:19.507\u001b[0m | \u001b[1mINFO    \u001b[0m | \u001b[36msrc.data_processing.ratings\u001b[0m:\u001b[36mprepare_columns_for_ranking\u001b[0m:\u001b[36m20\u001b[0m - \u001b[1mPreparing columns for ranking\u001b[0m\n",
      "\u001b[32m2025-05-04 20:25:19.689\u001b[0m | \u001b[1mINFO    \u001b[0m | \u001b[36msrc.data_processing.ratings\u001b[0m:\u001b[36mprepare_columns_for_ranking\u001b[0m:\u001b[36m27\u001b[0m - \u001b[1mCompleted preparing columns for ranking\u001b[0m\n",
      "\u001b[32m2025-05-04 20:25:19.689\u001b[0m | \u001b[1mINFO    \u001b[0m | \u001b[36msrc.utils.utils\u001b[0m:\u001b[36mprocess_for_inference\u001b[0m:\u001b[36m0\u001b[0m - \u001b[1mFunction 'process_for_inference' executed in 0.1821 seconds\u001b[0m\n"
     ]
    },
    {
     "data": {
      "text/plain": [
       "<src.data_processing.ratings.ProcessRatings at 0x12fa808f0>"
      ]
     },
     "execution_count": 7,
     "metadata": {},
     "output_type": "execute_result"
    }
   ],
   "source": [
    "process_users = ProcessUsers(users, model_config)\n",
    "process_movies = ProcessMovies(movies, model_config)\n",
    "process_ratings = ProcessRatings(ratings, model_config)\n",
    "\n",
    "process_users.process_for_inference()\n",
    "process_movies.process_for_inference()\n",
    "process_ratings.process_for_inference()\n"
   ]
  },
  {
   "cell_type": "markdown",
   "metadata": {},
   "source": [
    "# Save Processed Data"
   ]
  },
  {
   "cell_type": "code",
   "execution_count": 8,
   "metadata": {},
   "outputs": [],
   "source": [
    "process_users.output.to_parquet(data_config.processed_users.file_path)\n",
    "process_movies.output.to_parquet(data_config.processed_movies.file_path)\n",
    "process_ratings.output.to_parquet(data_config.processed_ratings.file_path)"
   ]
  }
 ],
 "metadata": {
  "kernelspec": {
   "display_name": ".venv",
   "language": "python",
   "name": "python3"
  },
  "language_info": {
   "codemirror_mode": {
    "name": "ipython",
    "version": 3
   },
   "file_extension": ".py",
   "mimetype": "text/x-python",
   "name": "python",
   "nbconvert_exporter": "python",
   "pygments_lexer": "ipython3",
   "version": "3.12.6"
  }
 },
 "nbformat": 4,
 "nbformat_minor": 2
}
