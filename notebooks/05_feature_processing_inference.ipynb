{
 "cells": [
  {
   "cell_type": "markdown",
   "metadata": {},
   "source": [
    "# Best practice: Set root directory to the root of the project\n"
   ]
  },
  {
   "cell_type": "code",
   "execution_count": 7,
   "metadata": {},
   "outputs": [
    {
     "name": "stdout",
     "output_type": "stream",
     "text": [
      "The autoreload extension is already loaded. To reload it, use:\n",
      "  %reload_ext autoreload\n"
     ]
    }
   ],
   "source": [
    "%load_ext autoreload\n",
    "%autoreload 2\n",
    "from constants import ROOT_DIR\n",
    "import os\n",
    "import sys\n",
    "if ROOT_DIR not in sys.path:\n",
    "    sys.path.append(ROOT_DIR)\n",
    "os.chdir(ROOT_DIR)"
   ]
  },
  {
   "cell_type": "markdown",
   "metadata": {},
   "source": [
    "# Load Imports and Configs"
   ]
  },
  {
   "cell_type": "code",
   "execution_count": 8,
   "metadata": {},
   "outputs": [],
   "source": [
    "from configs.data_config import InferenceDataConfig\n",
    "from configs.model_config import ModelConfig\n",
    "import pandas as pd\n",
    "from src.feature_processing.process_features import ProcessFeatures\n",
    "\n",
    "data_config = InferenceDataConfig()\n",
    "model_config = ModelConfig()"
   ]
  },
  {
   "cell_type": "markdown",
   "metadata": {},
   "source": [
    "# Load data processed inference data"
   ]
  },
  {
   "cell_type": "code",
   "execution_count": 9,
   "metadata": {},
   "outputs": [],
   "source": [
    "users = pd.read_parquet(data_config.processed_users.file_path)\n",
    "movies = pd.read_parquet(data_config.processed_movies.file_path)\n",
    "ratings = pd.read_parquet(data_config.processed_ratings.file_path)"
   ]
  },
  {
   "cell_type": "markdown",
   "metadata": {},
   "source": [
    "# Process features for Inference"
   ]
  },
  {
   "cell_type": "code",
   "execution_count": 10,
   "metadata": {},
   "outputs": [
    {
     "name": "stderr",
     "output_type": "stream",
     "text": [
      "\u001b[32m2025-05-04 20:56:34.844\u001b[0m | \u001b[1mINFO    \u001b[0m | \u001b[36msrc.feature_processing.process_features\u001b[0m:\u001b[36mload\u001b[0m:\u001b[36m202\u001b[0m - \u001b[1mLoaded\u001b[0m\n",
      "\u001b[32m2025-05-04 20:56:35.258\u001b[0m | \u001b[1mINFO    \u001b[0m | \u001b[36msrc.feature_processing.process_features\u001b[0m:\u001b[36mnumerical_feature_processing_for_inference\u001b[0m:\u001b[36m141\u001b[0m - \u001b[1mProcessing numerical features\u001b[0m\n",
      "\u001b[32m2025-05-04 20:56:35.266\u001b[0m | \u001b[1mINFO    \u001b[0m | \u001b[36msrc.feature_processing.process_features\u001b[0m:\u001b[36mnumerical_feature_processing_for_inference\u001b[0m:\u001b[36m143\u001b[0m - \u001b[1mCompleted processing numerical features\u001b[0m\n",
      "\u001b[32m2025-05-04 20:56:35.267\u001b[0m | \u001b[1mINFO    \u001b[0m | \u001b[36msrc.feature_processing.process_features\u001b[0m:\u001b[36mcategorical_feature_processing_for_inference\u001b[0m:\u001b[36m147\u001b[0m - \u001b[1mProcessing categorical features\u001b[0m\n",
      "\u001b[32m2025-05-04 20:56:35.274\u001b[0m | \u001b[1mINFO    \u001b[0m | \u001b[36msrc.feature_processing.process_features\u001b[0m:\u001b[36mcategorical_feature_processing_for_inference\u001b[0m:\u001b[36m149\u001b[0m - \u001b[1mCompleted processing categorical features\u001b[0m\n",
      "\u001b[32m2025-05-04 20:56:35.274\u001b[0m | \u001b[1mINFO    \u001b[0m | \u001b[36msrc.feature_processing.process_features\u001b[0m:\u001b[36mprocess_for_inference\u001b[0m:\u001b[36m160\u001b[0m - \u001b[1mFunction 'process_for_inference' executed in 0.0613 seconds\u001b[0m\n"
     ]
    },
    {
     "data": {
      "text/plain": [
       "(60400, 9)"
      ]
     },
     "execution_count": 10,
     "metadata": {},
     "output_type": "execute_result"
    }
   ],
   "source": [
    "pf_object = ProcessFeatures(users, movies, ratings, model_config)\n",
    "pf_object_loaded = pf_object.load()\n",
    "pf_object_loaded.process_for_inference()\n",
    "pf_object_loaded.inference_data.shape"
   ]
  },
  {
   "cell_type": "markdown",
   "metadata": {},
   "source": [
    "# Save feature processed Inference Data"
   ]
  },
  {
   "cell_type": "code",
   "execution_count": 11,
   "metadata": {},
   "outputs": [],
   "source": [
    "pf_object_loaded.inference_data.to_parquet(data_config.inference_model_input.file_path)"
   ]
  }
 ],
 "metadata": {
  "kernelspec": {
   "display_name": ".venv",
   "language": "python",
   "name": "python3"
  },
  "language_info": {
   "codemirror_mode": {
    "name": "ipython",
    "version": 3
   },
   "file_extension": ".py",
   "mimetype": "text/x-python",
   "name": "python",
   "nbconvert_exporter": "python",
   "pygments_lexer": "ipython3",
   "version": "3.12.6"
  }
 },
 "nbformat": 4,
 "nbformat_minor": 2
}
