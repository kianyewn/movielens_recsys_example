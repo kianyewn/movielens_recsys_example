{
 "cells": [
  {
   "cell_type": "markdown",
   "metadata": {},
   "source": [
    "# Best practice: Set root directory to the root of the project\n"
   ]
  },
  {
   "cell_type": "code",
   "execution_count": 9,
   "metadata": {},
   "outputs": [
    {
     "name": "stdout",
     "output_type": "stream",
     "text": [
      "The autoreload extension is already loaded. To reload it, use:\n",
      "  %reload_ext autoreload\n"
     ]
    }
   ],
   "source": [
    "%load_ext autoreload\n",
    "%autoreload 2\n",
    "from constants import ROOT_DIR\n",
    "import os\n",
    "import sys\n",
    "if ROOT_DIR not in sys.path:\n",
    "    sys.path.append(ROOT_DIR)\n",
    "os.chdir(ROOT_DIR)"
   ]
  },
  {
   "cell_type": "markdown",
   "metadata": {},
   "source": [
    "# Load Imports and Configs"
   ]
  },
  {
   "cell_type": "code",
   "execution_count": 31,
   "metadata": {},
   "outputs": [],
   "source": [
    "from configs.data_config import InferenceDataConfig\n",
    "from configs.lgbm_config import LGBMConfig\n",
    "import pandas as pd\n",
    "from src.models.lgbm.inference import InferenceEngine\n",
    "\n",
    "data_config = InferenceDataConfig()\n",
    "model_config = LGBMConfig()"
   ]
  },
  {
   "cell_type": "markdown",
   "metadata": {},
   "source": [
    "# Load feature processed Inference Data\n",
    "\n"
   ]
  },
  {
   "cell_type": "code",
   "execution_count": 15,
   "metadata": {},
   "outputs": [
    {
     "data": {
      "text/plain": [
       "(60400, 9)"
      ]
     },
     "execution_count": 15,
     "metadata": {},
     "output_type": "execute_result"
    }
   ],
   "source": [
    "inference_data = pd.read_parquet(data_config.inference_model_input.file_path)\n",
    "inference_data.shape"
   ]
  },
  {
   "cell_type": "markdown",
   "metadata": {},
   "source": [
    "# Predict with trained model"
   ]
  },
  {
   "cell_type": "code",
   "execution_count": 22,
   "metadata": {},
   "outputs": [
    {
     "data": {
      "text/plain": [
       "<src.models.lgbm.inference.InferenceEngine at 0x15ea918b0>"
      ]
     },
     "execution_count": 22,
     "metadata": {},
     "output_type": "execute_result"
    }
   ],
   "source": [
    "# Load Model\n",
    "inference_engine = InferenceEngine(model_config)\n",
    "inference_engine.score(inference_data)"
   ]
  },
  {
   "cell_type": "markdown",
   "metadata": {},
   "source": [
    "# Top 3 ranked data (from lgbm_config)"
   ]
  },
  {
   "cell_type": "code",
   "execution_count": 23,
   "metadata": {},
   "outputs": [
    {
     "data": {
      "text/html": [
       "<div>\n",
       "<style scoped>\n",
       "    .dataframe tbody tr th:only-of-type {\n",
       "        vertical-align: middle;\n",
       "    }\n",
       "\n",
       "    .dataframe tbody tr th {\n",
       "        vertical-align: top;\n",
       "    }\n",
       "\n",
       "    .dataframe thead th {\n",
       "        text-align: right;\n",
       "    }\n",
       "</style>\n",
       "<table border=\"1\" class=\"dataframe\">\n",
       "  <thead>\n",
       "    <tr style=\"text-align: right;\">\n",
       "      <th></th>\n",
       "      <th>user_id</th>\n",
       "      <th>user_id_str</th>\n",
       "      <th>movie_id</th>\n",
       "      <th>movie_id_str</th>\n",
       "      <th>gender</th>\n",
       "      <th>age</th>\n",
       "      <th>occupation</th>\n",
       "      <th>zip</th>\n",
       "      <th>year</th>\n",
       "      <th>pred</th>\n",
       "      <th>rank</th>\n",
       "    </tr>\n",
       "  </thead>\n",
       "  <tbody>\n",
       "    <tr>\n",
       "      <th>2</th>\n",
       "      <td>1</td>\n",
       "      <td>1</td>\n",
       "      <td>2649</td>\n",
       "      <td>3540</td>\n",
       "      <td>2</td>\n",
       "      <td>-2.446497</td>\n",
       "      <td>13</td>\n",
       "      <td>48067</td>\n",
       "      <td>55</td>\n",
       "      <td>0.010834</td>\n",
       "      <td>1.0</td>\n",
       "    </tr>\n",
       "    <tr>\n",
       "      <th>7</th>\n",
       "      <td>1</td>\n",
       "      <td>1</td>\n",
       "      <td>2654</td>\n",
       "      <td>3546</td>\n",
       "      <td>2</td>\n",
       "      <td>-2.446497</td>\n",
       "      <td>13</td>\n",
       "      <td>48067</td>\n",
       "      <td>56</td>\n",
       "      <td>0.010834</td>\n",
       "      <td>2.0</td>\n",
       "    </tr>\n",
       "    <tr>\n",
       "      <th>1</th>\n",
       "      <td>1</td>\n",
       "      <td>1</td>\n",
       "      <td>2677</td>\n",
       "      <td>357</td>\n",
       "      <td>2</td>\n",
       "      <td>-2.446497</td>\n",
       "      <td>13</td>\n",
       "      <td>48067</td>\n",
       "      <td>5</td>\n",
       "      <td>0.008331</td>\n",
       "      <td>3.0</td>\n",
       "    </tr>\n",
       "    <tr>\n",
       "      <th>13</th>\n",
       "      <td>2</td>\n",
       "      <td>10</td>\n",
       "      <td>2650</td>\n",
       "      <td>3542</td>\n",
       "      <td>1</td>\n",
       "      <td>2.236553</td>\n",
       "      <td>10</td>\n",
       "      <td>70072</td>\n",
       "      <td>52</td>\n",
       "      <td>0.023510</td>\n",
       "      <td>1.0</td>\n",
       "    </tr>\n",
       "    <tr>\n",
       "      <th>12</th>\n",
       "      <td>2</td>\n",
       "      <td>10</td>\n",
       "      <td>2649</td>\n",
       "      <td>3540</td>\n",
       "      <td>1</td>\n",
       "      <td>2.236553</td>\n",
       "      <td>10</td>\n",
       "      <td>70072</td>\n",
       "      <td>55</td>\n",
       "      <td>0.023023</td>\n",
       "      <td>2.0</td>\n",
       "    </tr>\n",
       "    <tr>\n",
       "      <th>...</th>\n",
       "      <td>...</td>\n",
       "      <td>...</td>\n",
       "      <td>...</td>\n",
       "      <td>...</td>\n",
       "      <td>...</td>\n",
       "      <td>...</td>\n",
       "      <td>...</td>\n",
       "      <td>...</td>\n",
       "      <td>...</td>\n",
       "      <td>...</td>\n",
       "      <td>...</td>\n",
       "    </tr>\n",
       "    <tr>\n",
       "      <th>60387</th>\n",
       "      <td>6039</td>\n",
       "      <td>998</td>\n",
       "      <td>2654</td>\n",
       "      <td>3546</td>\n",
       "      <td>2</td>\n",
       "      <td>1.299943</td>\n",
       "      <td>2</td>\n",
       "      <td>01060</td>\n",
       "      <td>56</td>\n",
       "      <td>0.023110</td>\n",
       "      <td>2.0</td>\n",
       "    </tr>\n",
       "    <tr>\n",
       "      <th>60383</th>\n",
       "      <td>6039</td>\n",
       "      <td>998</td>\n",
       "      <td>2650</td>\n",
       "      <td>3542</td>\n",
       "      <td>2</td>\n",
       "      <td>1.299943</td>\n",
       "      <td>2</td>\n",
       "      <td>01060</td>\n",
       "      <td>52</td>\n",
       "      <td>0.020328</td>\n",
       "      <td>3.0</td>\n",
       "    </tr>\n",
       "    <tr>\n",
       "      <th>60398</th>\n",
       "      <td>6040</td>\n",
       "      <td>999</td>\n",
       "      <td>2655</td>\n",
       "      <td>3547</td>\n",
       "      <td>1</td>\n",
       "      <td>-0.402984</td>\n",
       "      <td>11</td>\n",
       "      <td>11106</td>\n",
       "      <td>14</td>\n",
       "      <td>0.017806</td>\n",
       "      <td>1.0</td>\n",
       "    </tr>\n",
       "    <tr>\n",
       "      <th>60391</th>\n",
       "      <td>6040</td>\n",
       "      <td>999</td>\n",
       "      <td>2677</td>\n",
       "      <td>357</td>\n",
       "      <td>1</td>\n",
       "      <td>-0.402984</td>\n",
       "      <td>11</td>\n",
       "      <td>11106</td>\n",
       "      <td>5</td>\n",
       "      <td>0.004928</td>\n",
       "      <td>2.0</td>\n",
       "    </tr>\n",
       "    <tr>\n",
       "      <th>60392</th>\n",
       "      <td>6040</td>\n",
       "      <td>999</td>\n",
       "      <td>2649</td>\n",
       "      <td>3540</td>\n",
       "      <td>1</td>\n",
       "      <td>-0.402984</td>\n",
       "      <td>11</td>\n",
       "      <td>11106</td>\n",
       "      <td>55</td>\n",
       "      <td>-0.007406</td>\n",
       "      <td>3.0</td>\n",
       "    </tr>\n",
       "  </tbody>\n",
       "</table>\n",
       "<p>18120 rows × 11 columns</p>\n",
       "</div>"
      ],
      "text/plain": [
       "       user_id user_id_str  movie_id movie_id_str  ...    zip  year      pred rank\n",
       "2            1           1      2649         3540  ...  48067    55  0.010834  1.0\n",
       "7            1           1      2654         3546  ...  48067    56  0.010834  2.0\n",
       "1            1           1      2677          357  ...  48067     5  0.008331  3.0\n",
       "13           2          10      2650         3542  ...  70072    52  0.023510  1.0\n",
       "12           2          10      2649         3540  ...  70072    55  0.023023  2.0\n",
       "...        ...         ...       ...          ...  ...    ...   ...       ...  ...\n",
       "60387     6039         998      2654         3546  ...  01060    56  0.023110  2.0\n",
       "60383     6039         998      2650         3542  ...  01060    52  0.020328  3.0\n",
       "60398     6040         999      2655         3547  ...  11106    14  0.017806  1.0\n",
       "60391     6040         999      2677          357  ...  11106     5  0.004928  2.0\n",
       "60392     6040         999      2649         3540  ...  11106    55 -0.007406  3.0\n",
       "\n",
       "[18120 rows x 11 columns]"
      ]
     },
     "execution_count": 23,
     "metadata": {},
     "output_type": "execute_result"
    }
   ],
   "source": [
    "inference_engine.inference_data"
   ]
  },
  {
   "cell_type": "markdown",
   "metadata": {},
   "source": [
    "# Save Inference Data"
   ]
  },
  {
   "cell_type": "code",
   "execution_count": 32,
   "metadata": {},
   "outputs": [],
   "source": [
    "inference_engine.inference_data.to_parquet(data_config.inference_model_output.file_path)"
   ]
  }
 ],
 "metadata": {
  "kernelspec": {
   "display_name": ".venv",
   "language": "python",
   "name": "python3"
  },
  "language_info": {
   "codemirror_mode": {
    "name": "ipython",
    "version": 3
   },
   "file_extension": ".py",
   "mimetype": "text/x-python",
   "name": "python",
   "nbconvert_exporter": "python",
   "pygments_lexer": "ipython3",
   "version": "3.12.6"
  }
 },
 "nbformat": 4,
 "nbformat_minor": 2
}
