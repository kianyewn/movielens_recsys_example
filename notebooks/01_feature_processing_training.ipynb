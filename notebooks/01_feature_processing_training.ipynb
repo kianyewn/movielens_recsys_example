{
 "cells": [
  {
   "cell_type": "markdown",
   "metadata": {},
   "source": [
    "# Best practice: Set root directory to the root of the project\n"
   ]
  },
  {
   "cell_type": "code",
   "execution_count": 1,
   "metadata": {},
   "outputs": [],
   "source": [
    "%load_ext autoreload\n",
    "%autoreload 2\n",
    "from constants import ROOT_DIR\n",
    "import os\n",
    "import sys\n",
    "if ROOT_DIR not in sys.path:\n",
    "    sys.path.append(ROOT_DIR)\n",
    "os.chdir(ROOT_DIR)"
   ]
  },
  {
   "cell_type": "markdown",
   "metadata": {},
   "source": [
    "# Load Imports and Configs"
   ]
  },
  {
   "cell_type": "code",
   "execution_count": null,
   "metadata": {},
   "outputs": [],
   "source": [
    "from configs.data_config import DataConfig\n",
    "from configs.processing_config import DataProcessingConfig\n",
    "import pandas as pd\n",
    "from src.feature_processing.process_features import ProcessFeatures\n",
    "\n",
    "data_config = DataConfig()\n",
    "processing_config = DataProcessingConfig()"
   ]
  },
  {
   "cell_type": "markdown",
   "metadata": {},
   "source": [
    "# Load Processed Data"
   ]
  },
  {
   "cell_type": "code",
   "execution_count": 37,
   "metadata": {},
   "outputs": [
    {
     "data": {
      "text/html": [
       "<div>\n",
       "<style scoped>\n",
       "    .dataframe tbody tr th:only-of-type {\n",
       "        vertical-align: middle;\n",
       "    }\n",
       "\n",
       "    .dataframe tbody tr th {\n",
       "        vertical-align: top;\n",
       "    }\n",
       "\n",
       "    .dataframe thead th {\n",
       "        text-align: right;\n",
       "    }\n",
       "</style>\n",
       "<table border=\"1\" class=\"dataframe\">\n",
       "  <thead>\n",
       "    <tr style=\"text-align: right;\">\n",
       "      <th></th>\n",
       "      <th>user_id</th>\n",
       "      <th>movie_id</th>\n",
       "      <th>rating</th>\n",
       "      <th>timestamp</th>\n",
       "      <th>interaction_num</th>\n",
       "      <th>qid</th>\n",
       "      <th>label</th>\n",
       "    </tr>\n",
       "  </thead>\n",
       "  <tbody>\n",
       "    <tr>\n",
       "      <th>0</th>\n",
       "      <td>1</td>\n",
       "      <td>1193</td>\n",
       "      <td>5</td>\n",
       "      <td>978300760</td>\n",
       "      <td>42.0</td>\n",
       "      <td>0</td>\n",
       "      <td>1</td>\n",
       "    </tr>\n",
       "    <tr>\n",
       "      <th>1</th>\n",
       "      <td>1</td>\n",
       "      <td>661</td>\n",
       "      <td>3</td>\n",
       "      <td>978302109</td>\n",
       "      <td>23.0</td>\n",
       "      <td>1</td>\n",
       "      <td>1</td>\n",
       "    </tr>\n",
       "    <tr>\n",
       "      <th>2</th>\n",
       "      <td>1</td>\n",
       "      <td>914</td>\n",
       "      <td>3</td>\n",
       "      <td>978301968</td>\n",
       "      <td>28.0</td>\n",
       "      <td>2</td>\n",
       "      <td>1</td>\n",
       "    </tr>\n",
       "    <tr>\n",
       "      <th>3</th>\n",
       "      <td>1</td>\n",
       "      <td>3408</td>\n",
       "      <td>4</td>\n",
       "      <td>978300275</td>\n",
       "      <td>47.0</td>\n",
       "      <td>3</td>\n",
       "      <td>1</td>\n",
       "    </tr>\n",
       "    <tr>\n",
       "      <th>4</th>\n",
       "      <td>1</td>\n",
       "      <td>2355</td>\n",
       "      <td>5</td>\n",
       "      <td>978824291</td>\n",
       "      <td>4.0</td>\n",
       "      <td>4</td>\n",
       "      <td>1</td>\n",
       "    </tr>\n",
       "  </tbody>\n",
       "</table>\n",
       "</div>"
      ],
      "text/plain": [
       "   user_id  movie_id  rating  timestamp  interaction_num  qid  label\n",
       "0        1      1193       5  978300760             42.0    0      1\n",
       "1        1       661       3  978302109             23.0    1      1\n",
       "2        1       914       3  978301968             28.0    2      1\n",
       "3        1      3408       4  978300275             47.0    3      1\n",
       "4        1      2355       5  978824291              4.0    4      1"
      ]
     },
     "execution_count": 37,
     "metadata": {},
     "output_type": "execute_result"
    }
   ],
   "source": [
    "users = pd.read_parquet(data_config.processed_users.file_path)\n",
    "movies = pd.read_parquet(data_config.processed_movies.file_path)\n",
    "ratings = pd.read_parquet(data_config.processed_ratings.file_path)\n",
    "\n",
    "users.head()\n",
    "movies.head()\n",
    "ratings.head()"
   ]
  },
  {
   "cell_type": "markdown",
   "metadata": {},
   "source": [
    "# Process Features for Training"
   ]
  },
  {
   "cell_type": "code",
   "execution_count": 35,
   "metadata": {},
   "outputs": [
    {
     "name": "stderr",
     "output_type": "stream",
     "text": [
      "\u001b[32m2025-05-04 16:04:35.718\u001b[0m | \u001b[1mINFO    \u001b[0m | \u001b[36msrc.feature_processing.process_features\u001b[0m:\u001b[36mcombine_features\u001b[0m:\u001b[36m34\u001b[0m - \u001b[1mCombining features to Ratings\u001b[0m\n",
      "\u001b[32m2025-05-04 16:04:39.981\u001b[0m | \u001b[1mINFO    \u001b[0m | \u001b[36msrc.feature_processing.process_features\u001b[0m:\u001b[36mcombine_features\u001b[0m:\u001b[36m58\u001b[0m - \u001b[1mCompleted combining features to Ratings\u001b[0m\n",
      "\u001b[32m2025-05-04 16:04:39.985\u001b[0m | \u001b[1mINFO    \u001b[0m | \u001b[36msrc.feature_processing.process_features\u001b[0m:\u001b[36mtrain_test_split\u001b[0m:\u001b[36m62\u001b[0m - \u001b[1mCreating train and val data for modelling\u001b[0m\n",
      "\u001b[32m2025-05-04 16:04:40.702\u001b[0m | \u001b[1mINFO    \u001b[0m | \u001b[36msrc.feature_processing.process_features\u001b[0m:\u001b[36mtrain_test_split\u001b[0m:\u001b[36m82\u001b[0m - \u001b[1mCompleted creating train and val data for modelling\u001b[0m\n",
      "\u001b[32m2025-05-04 16:04:40.703\u001b[0m | \u001b[1mINFO    \u001b[0m | \u001b[36msrc.feature_processing.process_features\u001b[0m:\u001b[36mnumerical_feature_processing_for_training\u001b[0m:\u001b[36m86\u001b[0m - \u001b[1mProcessing numerical features\u001b[0m\n",
      "\u001b[32m2025-05-04 16:04:42.449\u001b[0m | \u001b[1mINFO    \u001b[0m | \u001b[36msrc.feature_processing.process_features\u001b[0m:\u001b[36mnumerical_feature_processing_for_training\u001b[0m:\u001b[36m95\u001b[0m - \u001b[1mCompleted processing numerical features\u001b[0m\n",
      "\u001b[32m2025-05-04 16:04:42.451\u001b[0m | \u001b[1mINFO    \u001b[0m | \u001b[36msrc.feature_processing.process_features\u001b[0m:\u001b[36mcategorical_feature_processing_for_training\u001b[0m:\u001b[36m99\u001b[0m - \u001b[1mProcessing categorical features\u001b[0m\n",
      "\u001b[32m2025-05-04 16:04:43.654\u001b[0m | \u001b[1mINFO    \u001b[0m | \u001b[36msrc.feature_processing.process_features\u001b[0m:\u001b[36mcategorical_feature_processing_for_training\u001b[0m:\u001b[36m109\u001b[0m - \u001b[1mCompleted processing categorical features\u001b[0m\n",
      "\u001b[32m2025-05-04 16:04:43.657\u001b[0m | \u001b[1mINFO    \u001b[0m | \u001b[36msrc.feature_processing.process_features\u001b[0m:\u001b[36mprocess_for_training\u001b[0m:\u001b[36m124\u001b[0m - \u001b[1mFunction 'process_for_training' executed in 7.9379 seconds\u001b[0m\n"
     ]
    },
    {
     "data": {
      "text/plain": [
       "<src.feature_processing.process_features.ProcessFeatures at 0x470f20dd0>"
      ]
     },
     "execution_count": 35,
     "metadata": {},
     "output_type": "execute_result"
    }
   ],
   "source": [
    "pf_object = ProcessFeatures(users, movies, ratings, processing_config)\n",
    "pf_object.process_for_training()"
   ]
  },
  {
   "cell_type": "markdown",
   "metadata": {},
   "source": [
    "# Save Processed Data for training"
   ]
  },
  {
   "cell_type": "code",
   "execution_count": 36,
   "metadata": {},
   "outputs": [],
   "source": [
    "pf_object.train_data.to_parquet(data_config.train.file_path)\n",
    "pf_object.val_data.to_parquet(data_config.val.file_path)\n",
    "pf_object.test_data.to_parquet(data_config.test.file_path)"
   ]
  },
  {
   "cell_type": "markdown",
   "metadata": {},
   "source": [
    "# Test process features for inference"
   ]
  },
  {
   "cell_type": "code",
   "execution_count": 38,
   "metadata": {},
   "outputs": [
    {
     "name": "stderr",
     "output_type": "stream",
     "text": [
      "\u001b[32m2025-05-04 16:06:12.135\u001b[0m | \u001b[1mINFO    \u001b[0m | \u001b[36msrc.feature_processing.process_features\u001b[0m:\u001b[36mload\u001b[0m:\u001b[36m16\u001b[0m - \u001b[1mLoaded\u001b[0m\n",
      "\u001b[32m2025-05-04 16:06:12.138\u001b[0m | \u001b[1mINFO    \u001b[0m | \u001b[36msrc.feature_processing.process_features\u001b[0m:\u001b[36mcombine_features\u001b[0m:\u001b[36m34\u001b[0m - \u001b[1mCombining features to Ratings\u001b[0m\n",
      "\u001b[32m2025-05-04 16:06:16.497\u001b[0m | \u001b[1mINFO    \u001b[0m | \u001b[36msrc.feature_processing.process_features\u001b[0m:\u001b[36mcombine_features\u001b[0m:\u001b[36m58\u001b[0m - \u001b[1mCompleted combining features to Ratings\u001b[0m\n",
      "\u001b[32m2025-05-04 16:06:16.499\u001b[0m | \u001b[1mINFO    \u001b[0m | \u001b[36msrc.feature_processing.process_features\u001b[0m:\u001b[36mnumerical_feature_processing_for_inference\u001b[0m:\u001b[36m113\u001b[0m - \u001b[1mProcessing numerical features\u001b[0m\n",
      "\u001b[32m2025-05-04 16:06:18.135\u001b[0m | \u001b[1mINFO    \u001b[0m | \u001b[36msrc.feature_processing.process_features\u001b[0m:\u001b[36mnumerical_feature_processing_for_inference\u001b[0m:\u001b[36m115\u001b[0m - \u001b[1mCompleted processing numerical features\u001b[0m\n",
      "\u001b[32m2025-05-04 16:06:18.141\u001b[0m | \u001b[1mINFO    \u001b[0m | \u001b[36msrc.feature_processing.process_features\u001b[0m:\u001b[36mcategorical_feature_processing_for_inference\u001b[0m:\u001b[36m119\u001b[0m - \u001b[1mProcessing categorical features\u001b[0m\n",
      "\u001b[32m2025-05-04 16:06:19.467\u001b[0m | \u001b[1mINFO    \u001b[0m | \u001b[36msrc.feature_processing.process_features\u001b[0m:\u001b[36mcategorical_feature_processing_for_inference\u001b[0m:\u001b[36m121\u001b[0m - \u001b[1mCompleted processing categorical features\u001b[0m\n",
      "\u001b[32m2025-05-04 16:06:19.469\u001b[0m | \u001b[1mINFO    \u001b[0m | \u001b[36msrc.feature_processing.process_features\u001b[0m:\u001b[36mprocess_for_inference\u001b[0m:\u001b[36m132\u001b[0m - \u001b[1mFunction 'process_for_inference' executed in 7.3308 seconds\u001b[0m\n"
     ]
    }
   ],
   "source": [
    "pf_object = ProcessFeatures(users, movies, ratings,processing_config)\n",
    "pf_object_loaded = pf_object.load()\n",
    "pf_object_loaded.process_for_inference()\n",
    "master_data = pf_object_loaded.master_data"
   ]
  },
  {
   "cell_type": "code",
   "execution_count": 41,
   "metadata": {},
   "outputs": [],
   "source": [
    "pf_object = ProcessFeatures(users, movies, ratings, processing_config)\n",
    "pf_object_loaded = pf_object.load()\n",
    "pf_object_loaded.process_for_inference()\n",
    "pf_object_loaded.master_data.to_parquet(data_config.inference_model_input.file_path)"
   ]
  }
 ],
 "metadata": {
  "kernelspec": {
   "display_name": ".venv",
   "language": "python",
   "name": "python3"
  },
  "language_info": {
   "codemirror_mode": {
    "name": "ipython",
    "version": 3
   },
   "file_extension": ".py",
   "mimetype": "text/x-python",
   "name": "python",
   "nbconvert_exporter": "python",
   "pygments_lexer": "ipython3",
   "version": "3.12.6"
  }
 },
 "nbformat": 4,
 "nbformat_minor": 2
}
